{
 "cells": [
  {
   "cell_type": "markdown",
   "metadata": {},
   "source": [
    "## Contrast estimations \n",
    "\n",
    "These estimations are based on: \n",
    "\n",
    "#### Möller et al. IUCrJ 6, 794-803 (2019)\n",
    "\n",
    "http://journals.iucr.org/m/issues/2019/05/00/tj5024/"
   ]
  },
  {
   "cell_type": "code",
   "execution_count": 2,
   "metadata": {},
   "outputs": [],
   "source": [
    "import os, sys\n",
    "import numpy as np\n",
    "from scipy import interpolate\n",
    "import scipy.integrate as integrate\n",
    "import matplotlib.pyplot as plt"
   ]
  },
  {
   "cell_type": "code",
   "execution_count": 3,
   "metadata": {},
   "outputs": [],
   "source": [
    "# decay of contrast due to lower resolution; equation 13 from the paper\n",
    "def beta_res(a,L,E,P):\n",
    "    lam = wavelength(E)\n",
    "    kappa = 2*np.pi*P*a/(lam*L)\n",
    "    fun = lambda v: 2/kappa**2*(kappa-v)*(np.sin(v/2)/(v/2))**2\n",
    "    outp = integrate.quad(fun,0,kappa)\n",
    "        \n",
    "    return np.array(outp[0]**2)\n",
    "\n",
    "# decay of contrast due to limited coherence lengths; equation 14 from the paper\n",
    "def beta_q(a,d,delLamLam,q,R,sigmah,E):\n",
    "    \n",
    "    # compare focus size to coherence lenght\n",
    "    k = wavevector(E)\n",
    "    cl = coherence_lenght(R, sigmah, E)\n",
    "    if a > cl:\n",
    "        etah = cl\n",
    "    else:\n",
    "        etah = a\n",
    "    \n",
    "    # integrals\n",
    "    outp = []\n",
    "    f = lambda x, z: (a-x)*(d-z)*(np.exp(-x**2/etah**2-2*np.absolute(delLamLam*q*np.sqrt(1-0.25*(q/k)**2)*x-delLamLam/2*q**2*z/k))+np.exp(-x**2/etah**2-2*np.absolute(delLamLam*q*np.sqrt(1-0.25*(q/k)**2)*x+delLamLam/2*q**2*z/k)))\n",
    "    beta = integrate.dblquad(f, 0, d, lambda x: 0, lambda z: a)\n",
    "    outp.append(2*beta[0]/(d*a)**2)\n",
    "    return outp\n",
    "\n",
    "def speckle_contrast(a, L, E, P, delLamLam, q, R, sigmah,d):\n",
    "    beta = beta_res(a,L,E,P)*beta_q(a,d,delLamLam,q,R,sigmah,E)\n",
    "    return beta\n",
    "\n",
    "def wavelength(E):\n",
    "    lam = 1.24/E*1e-9\n",
    "    return lam\n",
    "\n",
    "def wavevector(E):\n",
    "    lam = wavelength(E)\n",
    "    k = 2.*np.pi/lam\n",
    "    return k\n",
    "\n",
    "def coherence_lenght(R, sigmah, E):\n",
    "    lam = wavelength(E)\n",
    "    return 1./(2.)*R/sigmah*lam\n"
   ]
  },
  {
   "cell_type": "markdown",
   "metadata": {},
   "source": [
    "### parameters"
   ]
  },
  {
   "cell_type": "code",
   "execution_count": 7,
   "metadata": {},
   "outputs": [],
   "source": [
    "# constants\n",
    "hbarc     = 3.2e-26  # J*m\n",
    "delLamLam = 2e-4     # Delta E over E: pink: 1e-3, Si(111) = 1.4e-4, Si(311) = 3e-5\n",
    "R         = 90       # source distance in m from equation 15\n",
    "sigmah    = 36e-6    # rms source size in m (estimation is 11x30 um)\n",
    "P         = 75e-6    # pixel size in m\n",
    "\n",
    "# variables\n",
    "a         = 25e-6    # beam focus size in m\n",
    "d         = 1.3e-3   # sample thickness in m\n",
    "E         = 12.5     # Energy in keV\n",
    "L         = 10       # sample-detector-distance in m"
   ]
  },
  {
   "cell_type": "markdown",
   "metadata": {},
   "source": [
    "### plot as a function of Q"
   ]
  },
  {
   "cell_type": "code",
   "execution_count": 61,
   "metadata": {},
   "outputs": [
    {
     "data": {
      "image/png": "[encoded data removed]",
      "text/plain": [
       "<Figure size 252x216 with 1 Axes>"
      ]
     },
     "metadata": {
      "needs_background": "light"
     },
     "output_type": "display_data"
    }
   ],
   "source": [
    "q_ = np.logspace(-4,-1,100)*1e10\n",
    "b_ = np.zeros(q_.shape)\n",
    "for i in range(len(b_)):\n",
    "    b_[i] = speckle_contrast(a, L, E, P, delLamLam, q_[i], R, sigmah,d)\n",
    "    \n",
    "L2 = 60\n",
    "for i in range(len(b_)):\n",
    "    b_2[i] = speckle_contrast(a, L2, E, P, delLamLam, q_[i], R, sigmah,d)\n",
    "\n",
    "plt.figure(figsize=[3.5,3])\n",
    "plt.plot(q_*1e-10,b_,'-',lw=2, c= 'blue',label = 'L = 10m')\n",
    "plt.plot(q_*1e-10,b_2,'-',lw=2, c= 'red',label = 'L = 60m',ls='--')\n",
    "plt.xscale('log')\n",
    "plt.axvline(x=2e-4,ls='--',c='gray')\n",
    "plt.axvline(x=5e-2,ls='--',c='gray')\n",
    "plt.xlabel(r'Momentum transfer Q $(\\rm \\AA^{-1})$',size=12)\n",
    "plt.ylabel(r'Speckle contrast $\\rm \\beta$',size=12)\n",
    "plt.legend(frameon=True,prop={'size': 9},loc='upper right')\n",
    "plt.ylim(0,1)\n",
    "plt.grid()\n",
    "plt.tight_layout()\n",
    "plt.savefig('/Users/fivos/Desktop/fig1.png',dpi=300)\n",
    "plt.show()"
   ]
  },
  {
   "cell_type": "markdown",
   "metadata": {},
   "source": [
    "### plot as a function of L"
   ]
  },
  {
   "cell_type": "code",
   "execution_count": 62,
   "metadata": {},
   "outputs": [
    {
     "data": {
      "image/png": "[encoded data removed]",
      "text/plain": [
       "<Figure size 252x216 with 1 Axes>"
      ]
     },
     "metadata": {
      "needs_background": "light"
     },
     "output_type": "display_data"
    }
   ],
   "source": [
    "L_ = np.arange(1,60)\n",
    "b_3 = np.zeros(L_.shape)\n",
    "q = 2e-4*1e10\n",
    "for i in range(len(L_)):\n",
    "    b_3[i] = speckle_contrast(a, L_[i], E, P, delLamLam, q, R, sigmah,d)\n",
    "\n",
    "L_ = np.arange(1,60)\n",
    "b_4 = np.zeros(L_.shape)\n",
    "q = 5e-2*1e10\n",
    "for i in range(len(L_)):\n",
    "    b_4[i] = speckle_contrast(a, L_[i], E, P, delLamLam, q, R, sigmah,d)\n",
    "    \n",
    "plt.figure(figsize=[3.5,3])\n",
    "plt.plot(L_,b_3,'-',lw=2, c= 'green',label=r'q = 2e-4 $\\rm \\AA^{-1}$')\n",
    "plt.plot(L_,b_4,'--',lw=2, c= 'orange',label=r'q = 5e-2 $\\rm \\AA^{-1}$')\n",
    "plt.xlabel(r'Sample-detector distance $(\\rm m)$',size=12)\n",
    "plt.ylabel(r'Speckle contrast $\\rm \\beta$',size=12)\n",
    "plt.legend(frameon=True,prop={'size': 9},loc='upper left')\n",
    "plt.ylim(0,1)\n",
    "plt.grid()\n",
    "plt.tight_layout()\n",
    "plt.savefig('/Users/fivos/Desktop/fig2.png',dpi=300)\n",
    "plt.show()\n"
   ]
  },
  {
   "cell_type": "code",
   "execution_count": null,
   "metadata": {},
   "outputs": [],
   "source": []
  }
 ],
 "metadata": {
  "kernelspec": {
   "display_name": "Python 3",
   "language": "python",
   "name": "python3"
  },
  "language_info": {
   "codemirror_mode": {
    "name": "ipython",
    "version": 3
   },
   "file_extension": ".py",
   "mimetype": "text/x-python",
   "name": "python",
   "nbconvert_exporter": "python",
   "pygments_lexer": "ipython3",
   "version": "3.7.6"
  }
 },
 "nbformat": 4,
 "nbformat_minor": 1
}
